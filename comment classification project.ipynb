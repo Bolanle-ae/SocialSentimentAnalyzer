{
 "cells": [
  {
   "cell_type": "code",
   "execution_count": 1,
   "id": "2af069d1",
   "metadata": {},
   "outputs": [],
   "source": [
    "import numpy as np\n",
    "import pandas as pd\n",
    "from sklearn.feature_extraction.text import CountVectorizer\n",
    "from sklearn.linear_model import LogisticRegression\n",
    "from sklearn.model_selection import train_test_split\n",
    "from sklearn.metrics import accuracy_score\n",
    "\n"
   ]
  },
  {
   "cell_type": "code",
   "execution_count": 2,
   "id": "c6361ba4",
   "metadata": {},
   "outputs": [],
   "source": [
    "pd=pd.read_excel(\"comment.xlsx\", sheet_name='train')\n"
   ]
  },
  {
   "cell_type": "code",
   "execution_count": 3,
   "id": "d5800464",
   "metadata": {},
   "outputs": [],
   "source": [
    "pd.dropna(subset=[\"comment_text\",\"status\"], inplace=True)"
   ]
  },
  {
   "cell_type": "code",
   "execution_count": 4,
   "id": "8b5aebb5",
   "metadata": {},
   "outputs": [
    {
     "data": {
      "text/html": [
       "<div>\n",
       "<style scoped>\n",
       "    .dataframe tbody tr th:only-of-type {\n",
       "        vertical-align: middle;\n",
       "    }\n",
       "\n",
       "    .dataframe tbody tr th {\n",
       "        vertical-align: top;\n",
       "    }\n",
       "\n",
       "    .dataframe thead th {\n",
       "        text-align: right;\n",
       "    }\n",
       "</style>\n",
       "<table border=\"1\" class=\"dataframe\">\n",
       "  <thead>\n",
       "    <tr style=\"text-align: right;\">\n",
       "      <th></th>\n",
       "      <th>comment_text</th>\n",
       "      <th>status</th>\n",
       "    </tr>\n",
       "  </thead>\n",
       "  <tbody>\n",
       "    <tr>\n",
       "      <th>0</th>\n",
       "      <td>- a topic that gets missed in here</td>\n",
       "      <td>Approved</td>\n",
       "    </tr>\n",
       "    <tr>\n",
       "      <th>1</th>\n",
       "      <td>-  another hacker! dont take off a thing! so w...</td>\n",
       "      <td>Approved</td>\n",
       "    </tr>\n",
       "    <tr>\n",
       "      <th>2</th>\n",
       "      <td>- - fine, thanks for the response. its interes...</td>\n",
       "      <td>Approved</td>\n",
       "    </tr>\n",
       "    <tr>\n",
       "      <th>3</th>\n",
       "      <td>-  fred clark (candidate) won on november 4, 2...</td>\n",
       "      <td>Approved</td>\n",
       "    </tr>\n",
       "    <tr>\n",
       "      <th>4</th>\n",
       "      <td>- \\nheres your second source: http://www.prweb...</td>\n",
       "      <td>Approved</td>\n",
       "    </tr>\n",
       "  </tbody>\n",
       "</table>\n",
       "</div>"
      ],
      "text/plain": [
       "                                        comment_text    status\n",
       "0                 - a topic that gets missed in here  Approved\n",
       "1  -  another hacker! dont take off a thing! so w...  Approved\n",
       "2  - - fine, thanks for the response. its interes...  Approved\n",
       "3  -  fred clark (candidate) won on november 4, 2...  Approved\n",
       "4  - \\nheres your second source: http://www.prweb...  Approved"
      ]
     },
     "execution_count": 4,
     "metadata": {},
     "output_type": "execute_result"
    }
   ],
   "source": [
    "pd.head()"
   ]
  },
  {
   "cell_type": "code",
   "execution_count": 5,
   "id": "4352b2bf",
   "metadata": {},
   "outputs": [],
   "source": [
    "#vectorizing\n",
    "X= pd[\"comment_text\"]\n",
    "y= pd[\"status\"]\n",
    "vectorizer = CountVectorizer()\n",
    "X_vectorized= vectorizer.fit_transform(X)"
   ]
  },
  {
   "cell_type": "code",
   "execution_count": 6,
   "id": "af05099a",
   "metadata": {},
   "outputs": [],
   "source": [
    "#training\n",
    "X_train, X_test, y_train, y_test = train_test_split(X_vectorized,y, test_size = 0.5, random_state = 42)"
   ]
  },
  {
   "cell_type": "code",
   "execution_count": 7,
   "id": "406a163f",
   "metadata": {},
   "outputs": [
    {
     "data": {
      "text/plain": [
       "LogisticRegression(max_iter=1000)"
      ]
     },
     "execution_count": 7,
     "metadata": {},
     "output_type": "execute_result"
    }
   ],
   "source": [
    "# BUILDING MODEL\n",
    "model = LogisticRegression(max_iter=1000)\n",
    "model.fit(X_train, y_train)"
   ]
  },
  {
   "cell_type": "code",
   "execution_count": 8,
   "id": "e83e7bcb",
   "metadata": {},
   "outputs": [
    {
     "name": "stdout",
     "output_type": "stream",
     "text": [
      "Accuracy:  0.9564892344497608\n"
     ]
    }
   ],
   "source": [
    "y_pred = model.predict(X_test)\n",
    "accuracy = accuracy_score(y_test, y_pred)\n",
    "print(\"Accuracy: \", accuracy)"
   ]
  },
  {
   "cell_type": "code",
   "execution_count": 9,
   "id": "f8fb695d",
   "metadata": {},
   "outputs": [
    {
     "name": "stdout",
     "output_type": "stream",
     "text": [
      "Add a comment...i hate you\n",
      "Prediction:  ['Not Approved']\n"
     ]
    }
   ],
   "source": [
    "new_comment = input(\"Add a comment...\")\n",
    "new_comment_vectorized = vectorizer.transform([new_comment])\n",
    "prediction = model.predict(new_comment_vectorized)\n",
    "print(\"Prediction: \", prediction)"
   ]
  },
  {
   "cell_type": "code",
   "execution_count": null,
   "id": "63f9902b",
   "metadata": {},
   "outputs": [
    {
     "name": "stdout",
     "output_type": "stream",
     "text": [
      " * Serving Flask app \"__main__\" (lazy loading)\n",
      " * Environment: production\n",
      "\u001b[31m   WARNING: This is a development server. Do not use it in a production deployment.\u001b[0m\n",
      "\u001b[2m   Use a production WSGI server instead.\u001b[0m\n",
      " * Debug mode: off\n"
     ]
    },
    {
     "name": "stderr",
     "output_type": "stream",
     "text": [
      " * Running on http://127.0.0.1:5000/ (Press CTRL+C to quit)\n",
      "127.0.0.1 - - [01/Jan/2024 12:28:04] \"GET / HTTP/1.1\" 200 -\n",
      "127.0.0.1 - - [01/Jan/2024 12:28:15] \"POST /predict HTTP/1.1\" 200 -\n"
     ]
    }
   ],
   "source": [
    "#LINK TO A WEBSITE \n",
    "from flask import Flask, render_template, request\n",
    "\n",
    "app = Flask(__name__)\n",
    "\n",
    "@app.route('/')\n",
    "\n",
    "def home():\n",
    "    return render_template('comment.html')\n",
    "\n",
    "@app.route('/predict',  methods=['GET', 'POST'])\n",
    "           \n",
    "def index():\n",
    "    if request.method == \"POST\":\n",
    "        body = request.form['body']\n",
    "        body_vectorized = vectorizer.transform([body])\n",
    "        prediction = model.predict(body_vectorized)\n",
    "        return render_template('answer.html', prediction = prediction[0])\n",
    "    \n",
    "if __name__== \"__main__\":\n",
    "    app.run()\n"
   ]
  },
  {
   "cell_type": "code",
   "execution_count": null,
   "id": "df464006",
   "metadata": {},
   "outputs": [],
   "source": []
  }
 ],
 "metadata": {
  "kernelspec": {
   "display_name": "Python 3 (ipykernel)",
   "language": "python",
   "name": "python3"
  },
  "language_info": {
   "codemirror_mode": {
    "name": "ipython",
    "version": 3
   },
   "file_extension": ".py",
   "mimetype": "text/x-python",
   "name": "python",
   "nbconvert_exporter": "python",
   "pygments_lexer": "ipython3",
   "version": "3.9.7"
  }
 },
 "nbformat": 4,
 "nbformat_minor": 5
}
